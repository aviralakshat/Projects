{
 "cells": [
  {
   "cell_type": "code",
   "execution_count": 2,
   "metadata": {
    "id": "d5jA8DIK7Qp8"
   },
   "outputs": [],
   "source": [
    "import pandas as pd\n",
    "import torch\n",
    "import torch.autograd as autograd\n",
    "import torch.nn as nn\n",
    "import torch.nn.functional as F\n",
    "import numpy as np"
   ]
  },
  {
   "cell_type": "code",
   "execution_count": 3,
   "metadata": {},
   "outputs": [
    {
     "name": "stdout",
     "output_type": "stream",
     "text": [
      "Collecting autograd\n",
      "  Downloading autograd-1.6.2-py3-none-any.whl.metadata (706 bytes)\n",
      "Requirement already satisfied: numpy>=1.12 in /opt/homebrew/lib/python3.11/site-packages (from autograd) (1.26.3)\n",
      "Collecting future>=0.15.2 (from autograd)\n",
      "  Downloading future-1.0.0-py3-none-any.whl.metadata (4.0 kB)\n",
      "Downloading autograd-1.6.2-py3-none-any.whl (49 kB)\n",
      "\u001b[2K   \u001b[90m━━━━━━━━━━━━━━━━━━━━━━━━━━━━━━━━━━━━━━━━\u001b[0m \u001b[32m49.3/49.3 kB\u001b[0m \u001b[31m901.9 kB/s\u001b[0m eta \u001b[36m0:00:00\u001b[0m\u001b[36m0:00:01\u001b[0m\n",
      "\u001b[?25hDownloading future-1.0.0-py3-none-any.whl (491 kB)\n",
      "\u001b[2K   \u001b[90m━━━━━━━━━━━━━━━━━━━━━━━━━━━━━━━━━━━━━━━━\u001b[0m \u001b[32m491.3/491.3 kB\u001b[0m \u001b[31m4.3 MB/s\u001b[0m eta \u001b[36m0:00:00\u001b[0ma \u001b[36m0:00:01\u001b[0m\n",
      "\u001b[?25hInstalling collected packages: future, autograd\n",
      "Successfully installed autograd-1.6.2 future-1.0.0\n",
      "\n",
      "\u001b[1m[\u001b[0m\u001b[34;49mnotice\u001b[0m\u001b[1;39;49m]\u001b[0m\u001b[39;49m A new release of pip is available: \u001b[0m\u001b[31;49m23.3.2\u001b[0m\u001b[39;49m -> \u001b[0m\u001b[32;49m24.0\u001b[0m\n",
      "\u001b[1m[\u001b[0m\u001b[34;49mnotice\u001b[0m\u001b[1;39;49m]\u001b[0m\u001b[39;49m To update, run: \u001b[0m\u001b[32;49mpython3.11 -m pip install --upgrade pip\u001b[0m\n",
      "Note: you may need to restart the kernel to use updated packages.\n"
     ]
    }
   ],
   "source": [
    "pip install autograd"
   ]
  },
  {
   "cell_type": "code",
   "execution_count": 4,
   "metadata": {},
   "outputs": [],
   "source": [
    "import autograd\n",
    "from autograd import numpy as np\n"
   ]
  },
  {
   "cell_type": "code",
   "execution_count": 5,
   "metadata": {
    "id": "KyjL51PfBM2K"
   },
   "outputs": [
    {
     "ename": "FileNotFoundError",
     "evalue": "[Errno 2] No such file or directory: '10\\\\coordinates_and_disp.csv'",
     "output_type": "error",
     "traceback": [
      "\u001b[0;31m---------------------------------------------------------------------------\u001b[0m",
      "\u001b[0;31mFileNotFoundError\u001b[0m                         Traceback (most recent call last)",
      "Cell \u001b[0;32mIn[5], line 1\u001b[0m\n\u001b[0;32m----> 1\u001b[0m coordinates_and_disp \u001b[38;5;241m=\u001b[39m \u001b[43mpd\u001b[49m\u001b[38;5;241;43m.\u001b[39;49m\u001b[43mread_csv\u001b[49m\u001b[43m(\u001b[49m\u001b[38;5;124;43m\"\u001b[39;49m\u001b[38;5;124;43m10\u001b[39;49m\u001b[38;5;124;43m\\\u001b[39;49m\u001b[38;5;124;43mcoordinates_and_disp.csv\u001b[39;49m\u001b[38;5;124;43m\"\u001b[39;49m\u001b[43m)\u001b[49m\n",
      "File \u001b[0;32m/opt/homebrew/lib/python3.11/site-packages/pandas/io/parsers/readers.py:1024\u001b[0m, in \u001b[0;36mread_csv\u001b[0;34m(filepath_or_buffer, sep, delimiter, header, names, index_col, usecols, dtype, engine, converters, true_values, false_values, skipinitialspace, skiprows, skipfooter, nrows, na_values, keep_default_na, na_filter, verbose, skip_blank_lines, parse_dates, infer_datetime_format, keep_date_col, date_parser, date_format, dayfirst, cache_dates, iterator, chunksize, compression, thousands, decimal, lineterminator, quotechar, quoting, doublequote, escapechar, comment, encoding, encoding_errors, dialect, on_bad_lines, delim_whitespace, low_memory, memory_map, float_precision, storage_options, dtype_backend)\u001b[0m\n\u001b[1;32m   1011\u001b[0m kwds_defaults \u001b[38;5;241m=\u001b[39m _refine_defaults_read(\n\u001b[1;32m   1012\u001b[0m     dialect,\n\u001b[1;32m   1013\u001b[0m     delimiter,\n\u001b[0;32m   (...)\u001b[0m\n\u001b[1;32m   1020\u001b[0m     dtype_backend\u001b[38;5;241m=\u001b[39mdtype_backend,\n\u001b[1;32m   1021\u001b[0m )\n\u001b[1;32m   1022\u001b[0m kwds\u001b[38;5;241m.\u001b[39mupdate(kwds_defaults)\n\u001b[0;32m-> 1024\u001b[0m \u001b[38;5;28;01mreturn\u001b[39;00m \u001b[43m_read\u001b[49m\u001b[43m(\u001b[49m\u001b[43mfilepath_or_buffer\u001b[49m\u001b[43m,\u001b[49m\u001b[43m \u001b[49m\u001b[43mkwds\u001b[49m\u001b[43m)\u001b[49m\n",
      "File \u001b[0;32m/opt/homebrew/lib/python3.11/site-packages/pandas/io/parsers/readers.py:618\u001b[0m, in \u001b[0;36m_read\u001b[0;34m(filepath_or_buffer, kwds)\u001b[0m\n\u001b[1;32m    615\u001b[0m _validate_names(kwds\u001b[38;5;241m.\u001b[39mget(\u001b[38;5;124m\"\u001b[39m\u001b[38;5;124mnames\u001b[39m\u001b[38;5;124m\"\u001b[39m, \u001b[38;5;28;01mNone\u001b[39;00m))\n\u001b[1;32m    617\u001b[0m \u001b[38;5;66;03m# Create the parser.\u001b[39;00m\n\u001b[0;32m--> 618\u001b[0m parser \u001b[38;5;241m=\u001b[39m \u001b[43mTextFileReader\u001b[49m\u001b[43m(\u001b[49m\u001b[43mfilepath_or_buffer\u001b[49m\u001b[43m,\u001b[49m\u001b[43m \u001b[49m\u001b[38;5;241;43m*\u001b[39;49m\u001b[38;5;241;43m*\u001b[39;49m\u001b[43mkwds\u001b[49m\u001b[43m)\u001b[49m\n\u001b[1;32m    620\u001b[0m \u001b[38;5;28;01mif\u001b[39;00m chunksize \u001b[38;5;129;01mor\u001b[39;00m iterator:\n\u001b[1;32m    621\u001b[0m     \u001b[38;5;28;01mreturn\u001b[39;00m parser\n",
      "File \u001b[0;32m/opt/homebrew/lib/python3.11/site-packages/pandas/io/parsers/readers.py:1618\u001b[0m, in \u001b[0;36mTextFileReader.__init__\u001b[0;34m(self, f, engine, **kwds)\u001b[0m\n\u001b[1;32m   1615\u001b[0m     \u001b[38;5;28mself\u001b[39m\u001b[38;5;241m.\u001b[39moptions[\u001b[38;5;124m\"\u001b[39m\u001b[38;5;124mhas_index_names\u001b[39m\u001b[38;5;124m\"\u001b[39m] \u001b[38;5;241m=\u001b[39m kwds[\u001b[38;5;124m\"\u001b[39m\u001b[38;5;124mhas_index_names\u001b[39m\u001b[38;5;124m\"\u001b[39m]\n\u001b[1;32m   1617\u001b[0m \u001b[38;5;28mself\u001b[39m\u001b[38;5;241m.\u001b[39mhandles: IOHandles \u001b[38;5;241m|\u001b[39m \u001b[38;5;28;01mNone\u001b[39;00m \u001b[38;5;241m=\u001b[39m \u001b[38;5;28;01mNone\u001b[39;00m\n\u001b[0;32m-> 1618\u001b[0m \u001b[38;5;28mself\u001b[39m\u001b[38;5;241m.\u001b[39m_engine \u001b[38;5;241m=\u001b[39m \u001b[38;5;28;43mself\u001b[39;49m\u001b[38;5;241;43m.\u001b[39;49m\u001b[43m_make_engine\u001b[49m\u001b[43m(\u001b[49m\u001b[43mf\u001b[49m\u001b[43m,\u001b[49m\u001b[43m \u001b[49m\u001b[38;5;28;43mself\u001b[39;49m\u001b[38;5;241;43m.\u001b[39;49m\u001b[43mengine\u001b[49m\u001b[43m)\u001b[49m\n",
      "File \u001b[0;32m/opt/homebrew/lib/python3.11/site-packages/pandas/io/parsers/readers.py:1878\u001b[0m, in \u001b[0;36mTextFileReader._make_engine\u001b[0;34m(self, f, engine)\u001b[0m\n\u001b[1;32m   1876\u001b[0m     \u001b[38;5;28;01mif\u001b[39;00m \u001b[38;5;124m\"\u001b[39m\u001b[38;5;124mb\u001b[39m\u001b[38;5;124m\"\u001b[39m \u001b[38;5;129;01mnot\u001b[39;00m \u001b[38;5;129;01min\u001b[39;00m mode:\n\u001b[1;32m   1877\u001b[0m         mode \u001b[38;5;241m+\u001b[39m\u001b[38;5;241m=\u001b[39m \u001b[38;5;124m\"\u001b[39m\u001b[38;5;124mb\u001b[39m\u001b[38;5;124m\"\u001b[39m\n\u001b[0;32m-> 1878\u001b[0m \u001b[38;5;28mself\u001b[39m\u001b[38;5;241m.\u001b[39mhandles \u001b[38;5;241m=\u001b[39m \u001b[43mget_handle\u001b[49m\u001b[43m(\u001b[49m\n\u001b[1;32m   1879\u001b[0m \u001b[43m    \u001b[49m\u001b[43mf\u001b[49m\u001b[43m,\u001b[49m\n\u001b[1;32m   1880\u001b[0m \u001b[43m    \u001b[49m\u001b[43mmode\u001b[49m\u001b[43m,\u001b[49m\n\u001b[1;32m   1881\u001b[0m \u001b[43m    \u001b[49m\u001b[43mencoding\u001b[49m\u001b[38;5;241;43m=\u001b[39;49m\u001b[38;5;28;43mself\u001b[39;49m\u001b[38;5;241;43m.\u001b[39;49m\u001b[43moptions\u001b[49m\u001b[38;5;241;43m.\u001b[39;49m\u001b[43mget\u001b[49m\u001b[43m(\u001b[49m\u001b[38;5;124;43m\"\u001b[39;49m\u001b[38;5;124;43mencoding\u001b[39;49m\u001b[38;5;124;43m\"\u001b[39;49m\u001b[43m,\u001b[49m\u001b[43m \u001b[49m\u001b[38;5;28;43;01mNone\u001b[39;49;00m\u001b[43m)\u001b[49m\u001b[43m,\u001b[49m\n\u001b[1;32m   1882\u001b[0m \u001b[43m    \u001b[49m\u001b[43mcompression\u001b[49m\u001b[38;5;241;43m=\u001b[39;49m\u001b[38;5;28;43mself\u001b[39;49m\u001b[38;5;241;43m.\u001b[39;49m\u001b[43moptions\u001b[49m\u001b[38;5;241;43m.\u001b[39;49m\u001b[43mget\u001b[49m\u001b[43m(\u001b[49m\u001b[38;5;124;43m\"\u001b[39;49m\u001b[38;5;124;43mcompression\u001b[39;49m\u001b[38;5;124;43m\"\u001b[39;49m\u001b[43m,\u001b[49m\u001b[43m \u001b[49m\u001b[38;5;28;43;01mNone\u001b[39;49;00m\u001b[43m)\u001b[49m\u001b[43m,\u001b[49m\n\u001b[1;32m   1883\u001b[0m \u001b[43m    \u001b[49m\u001b[43mmemory_map\u001b[49m\u001b[38;5;241;43m=\u001b[39;49m\u001b[38;5;28;43mself\u001b[39;49m\u001b[38;5;241;43m.\u001b[39;49m\u001b[43moptions\u001b[49m\u001b[38;5;241;43m.\u001b[39;49m\u001b[43mget\u001b[49m\u001b[43m(\u001b[49m\u001b[38;5;124;43m\"\u001b[39;49m\u001b[38;5;124;43mmemory_map\u001b[39;49m\u001b[38;5;124;43m\"\u001b[39;49m\u001b[43m,\u001b[49m\u001b[43m \u001b[49m\u001b[38;5;28;43;01mFalse\u001b[39;49;00m\u001b[43m)\u001b[49m\u001b[43m,\u001b[49m\n\u001b[1;32m   1884\u001b[0m \u001b[43m    \u001b[49m\u001b[43mis_text\u001b[49m\u001b[38;5;241;43m=\u001b[39;49m\u001b[43mis_text\u001b[49m\u001b[43m,\u001b[49m\n\u001b[1;32m   1885\u001b[0m \u001b[43m    \u001b[49m\u001b[43merrors\u001b[49m\u001b[38;5;241;43m=\u001b[39;49m\u001b[38;5;28;43mself\u001b[39;49m\u001b[38;5;241;43m.\u001b[39;49m\u001b[43moptions\u001b[49m\u001b[38;5;241;43m.\u001b[39;49m\u001b[43mget\u001b[49m\u001b[43m(\u001b[49m\u001b[38;5;124;43m\"\u001b[39;49m\u001b[38;5;124;43mencoding_errors\u001b[39;49m\u001b[38;5;124;43m\"\u001b[39;49m\u001b[43m,\u001b[49m\u001b[43m \u001b[49m\u001b[38;5;124;43m\"\u001b[39;49m\u001b[38;5;124;43mstrict\u001b[39;49m\u001b[38;5;124;43m\"\u001b[39;49m\u001b[43m)\u001b[49m\u001b[43m,\u001b[49m\n\u001b[1;32m   1886\u001b[0m \u001b[43m    \u001b[49m\u001b[43mstorage_options\u001b[49m\u001b[38;5;241;43m=\u001b[39;49m\u001b[38;5;28;43mself\u001b[39;49m\u001b[38;5;241;43m.\u001b[39;49m\u001b[43moptions\u001b[49m\u001b[38;5;241;43m.\u001b[39;49m\u001b[43mget\u001b[49m\u001b[43m(\u001b[49m\u001b[38;5;124;43m\"\u001b[39;49m\u001b[38;5;124;43mstorage_options\u001b[39;49m\u001b[38;5;124;43m\"\u001b[39;49m\u001b[43m,\u001b[49m\u001b[43m \u001b[49m\u001b[38;5;28;43;01mNone\u001b[39;49;00m\u001b[43m)\u001b[49m\u001b[43m,\u001b[49m\n\u001b[1;32m   1887\u001b[0m \u001b[43m\u001b[49m\u001b[43m)\u001b[49m\n\u001b[1;32m   1888\u001b[0m \u001b[38;5;28;01massert\u001b[39;00m \u001b[38;5;28mself\u001b[39m\u001b[38;5;241m.\u001b[39mhandles \u001b[38;5;129;01mis\u001b[39;00m \u001b[38;5;129;01mnot\u001b[39;00m \u001b[38;5;28;01mNone\u001b[39;00m\n\u001b[1;32m   1889\u001b[0m f \u001b[38;5;241m=\u001b[39m \u001b[38;5;28mself\u001b[39m\u001b[38;5;241m.\u001b[39mhandles\u001b[38;5;241m.\u001b[39mhandle\n",
      "File \u001b[0;32m/opt/homebrew/lib/python3.11/site-packages/pandas/io/common.py:873\u001b[0m, in \u001b[0;36mget_handle\u001b[0;34m(path_or_buf, mode, encoding, compression, memory_map, is_text, errors, storage_options)\u001b[0m\n\u001b[1;32m    868\u001b[0m \u001b[38;5;28;01melif\u001b[39;00m \u001b[38;5;28misinstance\u001b[39m(handle, \u001b[38;5;28mstr\u001b[39m):\n\u001b[1;32m    869\u001b[0m     \u001b[38;5;66;03m# Check whether the filename is to be opened in binary mode.\u001b[39;00m\n\u001b[1;32m    870\u001b[0m     \u001b[38;5;66;03m# Binary mode does not support 'encoding' and 'newline'.\u001b[39;00m\n\u001b[1;32m    871\u001b[0m     \u001b[38;5;28;01mif\u001b[39;00m ioargs\u001b[38;5;241m.\u001b[39mencoding \u001b[38;5;129;01mand\u001b[39;00m \u001b[38;5;124m\"\u001b[39m\u001b[38;5;124mb\u001b[39m\u001b[38;5;124m\"\u001b[39m \u001b[38;5;129;01mnot\u001b[39;00m \u001b[38;5;129;01min\u001b[39;00m ioargs\u001b[38;5;241m.\u001b[39mmode:\n\u001b[1;32m    872\u001b[0m         \u001b[38;5;66;03m# Encoding\u001b[39;00m\n\u001b[0;32m--> 873\u001b[0m         handle \u001b[38;5;241m=\u001b[39m \u001b[38;5;28;43mopen\u001b[39;49m\u001b[43m(\u001b[49m\n\u001b[1;32m    874\u001b[0m \u001b[43m            \u001b[49m\u001b[43mhandle\u001b[49m\u001b[43m,\u001b[49m\n\u001b[1;32m    875\u001b[0m \u001b[43m            \u001b[49m\u001b[43mioargs\u001b[49m\u001b[38;5;241;43m.\u001b[39;49m\u001b[43mmode\u001b[49m\u001b[43m,\u001b[49m\n\u001b[1;32m    876\u001b[0m \u001b[43m            \u001b[49m\u001b[43mencoding\u001b[49m\u001b[38;5;241;43m=\u001b[39;49m\u001b[43mioargs\u001b[49m\u001b[38;5;241;43m.\u001b[39;49m\u001b[43mencoding\u001b[49m\u001b[43m,\u001b[49m\n\u001b[1;32m    877\u001b[0m \u001b[43m            \u001b[49m\u001b[43merrors\u001b[49m\u001b[38;5;241;43m=\u001b[39;49m\u001b[43merrors\u001b[49m\u001b[43m,\u001b[49m\n\u001b[1;32m    878\u001b[0m \u001b[43m            \u001b[49m\u001b[43mnewline\u001b[49m\u001b[38;5;241;43m=\u001b[39;49m\u001b[38;5;124;43m\"\u001b[39;49m\u001b[38;5;124;43m\"\u001b[39;49m\u001b[43m,\u001b[49m\n\u001b[1;32m    879\u001b[0m \u001b[43m        \u001b[49m\u001b[43m)\u001b[49m\n\u001b[1;32m    880\u001b[0m     \u001b[38;5;28;01melse\u001b[39;00m:\n\u001b[1;32m    881\u001b[0m         \u001b[38;5;66;03m# Binary mode\u001b[39;00m\n\u001b[1;32m    882\u001b[0m         handle \u001b[38;5;241m=\u001b[39m \u001b[38;5;28mopen\u001b[39m(handle, ioargs\u001b[38;5;241m.\u001b[39mmode)\n",
      "\u001b[0;31mFileNotFoundError\u001b[0m: [Errno 2] No such file or directory: '10\\\\coordinates_and_disp.csv'"
     ]
    }
   ],
   "source": [
    "coordinates_and_disp = pd.read_csv(\"10\\coordinates_and_disp.csv\")"
   ]
  },
  {
   "cell_type": "code",
   "execution_count": 6,
   "metadata": {
    "colab": {
     "base_uri": "https://localhost:8080/",
     "height": 411
    },
    "id": "F63Ud8VuBk3M",
    "outputId": "2b1b15c6-d18d-41a7-8e01-9c9969984936"
   },
   "outputs": [
    {
     "data": {
      "text/html": [
       "<div>\n",
       "<style scoped>\n",
       "    .dataframe tbody tr th:only-of-type {\n",
       "        vertical-align: middle;\n",
       "    }\n",
       "\n",
       "    .dataframe tbody tr th {\n",
       "        vertical-align: top;\n",
       "    }\n",
       "\n",
       "    .dataframe thead th {\n",
       "        text-align: right;\n",
       "    }\n",
       "</style>\n",
       "<table border=\"1\" class=\"dataframe\">\n",
       "  <thead>\n",
       "    <tr style=\"text-align: right;\">\n",
       "      <th></th>\n",
       "      <th>Node_no.</th>\n",
       "      <th>x_coor</th>\n",
       "      <th>y_coor</th>\n",
       "      <th>u_x</th>\n",
       "      <th>u_y</th>\n",
       "      <th>u_x_low</th>\n",
       "      <th>u_y_low</th>\n",
       "      <th>u_x_high</th>\n",
       "      <th>u_y_high</th>\n",
       "    </tr>\n",
       "  </thead>\n",
       "  <tbody>\n",
       "    <tr>\n",
       "      <th>0</th>\n",
       "      <td>1</td>\n",
       "      <td>0.000000</td>\n",
       "      <td>0.000000</td>\n",
       "      <td>2.040851e-19</td>\n",
       "      <td>0.000000</td>\n",
       "      <td>-0.000019</td>\n",
       "      <td>2.309680e-07</td>\n",
       "      <td>-0.000130</td>\n",
       "      <td>0.000275</td>\n",
       "    </tr>\n",
       "    <tr>\n",
       "      <th>1</th>\n",
       "      <td>2</td>\n",
       "      <td>1.000000</td>\n",
       "      <td>0.000000</td>\n",
       "      <td>5.000000e-02</td>\n",
       "      <td>0.000000</td>\n",
       "      <td>0.050001</td>\n",
       "      <td>1.166761e-05</td>\n",
       "      <td>0.050068</td>\n",
       "      <td>0.000056</td>\n",
       "    </tr>\n",
       "    <tr>\n",
       "      <th>2</th>\n",
       "      <td>3</td>\n",
       "      <td>1.000000</td>\n",
       "      <td>1.000000</td>\n",
       "      <td>5.000000e-02</td>\n",
       "      <td>0.100000</td>\n",
       "      <td>0.049999</td>\n",
       "      <td>1.000012e-01</td>\n",
       "      <td>0.049944</td>\n",
       "      <td>0.100027</td>\n",
       "    </tr>\n",
       "    <tr>\n",
       "      <th>3</th>\n",
       "      <td>4</td>\n",
       "      <td>0.000000</td>\n",
       "      <td>1.000000</td>\n",
       "      <td>0.000000e+00</td>\n",
       "      <td>0.100000</td>\n",
       "      <td>0.000006</td>\n",
       "      <td>1.000041e-01</td>\n",
       "      <td>0.000166</td>\n",
       "      <td>0.099995</td>\n",
       "    </tr>\n",
       "    <tr>\n",
       "      <th>4</th>\n",
       "      <td>5</td>\n",
       "      <td>0.029412</td>\n",
       "      <td>0.000000</td>\n",
       "      <td>1.470588e-03</td>\n",
       "      <td>0.000000</td>\n",
       "      <td>0.001452</td>\n",
       "      <td>3.539026e-08</td>\n",
       "      <td>0.001353</td>\n",
       "      <td>0.000264</td>\n",
       "    </tr>\n",
       "    <tr>\n",
       "      <th>...</th>\n",
       "      <td>...</td>\n",
       "      <td>...</td>\n",
       "      <td>...</td>\n",
       "      <td>...</td>\n",
       "      <td>...</td>\n",
       "      <td>...</td>\n",
       "      <td>...</td>\n",
       "      <td>...</td>\n",
       "      <td>...</td>\n",
       "    </tr>\n",
       "    <tr>\n",
       "      <th>1433</th>\n",
       "      <td>1434</td>\n",
       "      <td>0.938818</td>\n",
       "      <td>0.041254</td>\n",
       "      <td>4.694088e-02</td>\n",
       "      <td>0.004125</td>\n",
       "      <td>0.046941</td>\n",
       "      <td>4.135551e-03</td>\n",
       "      <td>0.046992</td>\n",
       "      <td>0.004166</td>\n",
       "    </tr>\n",
       "    <tr>\n",
       "      <th>1434</th>\n",
       "      <td>1435</td>\n",
       "      <td>0.059067</td>\n",
       "      <td>0.041099</td>\n",
       "      <td>2.953350e-03</td>\n",
       "      <td>0.004110</td>\n",
       "      <td>0.002937</td>\n",
       "      <td>4.110577e-03</td>\n",
       "      <td>0.002845</td>\n",
       "      <td>0.004335</td>\n",
       "    </tr>\n",
       "    <tr>\n",
       "      <th>1435</th>\n",
       "      <td>1436</td>\n",
       "      <td>0.979437</td>\n",
       "      <td>0.610897</td>\n",
       "      <td>4.897184e-02</td>\n",
       "      <td>0.061090</td>\n",
       "      <td>0.048974</td>\n",
       "      <td>6.109863e-02</td>\n",
       "      <td>0.048885</td>\n",
       "      <td>0.061025</td>\n",
       "    </tr>\n",
       "    <tr>\n",
       "      <th>1436</th>\n",
       "      <td>1437</td>\n",
       "      <td>0.959345</td>\n",
       "      <td>0.498258</td>\n",
       "      <td>4.796725e-02</td>\n",
       "      <td>0.049826</td>\n",
       "      <td>0.047970</td>\n",
       "      <td>4.983556e-02</td>\n",
       "      <td>0.047894</td>\n",
       "      <td>0.049759</td>\n",
       "    </tr>\n",
       "    <tr>\n",
       "      <th>1437</th>\n",
       "      <td>1438</td>\n",
       "      <td>0.040660</td>\n",
       "      <td>0.736920</td>\n",
       "      <td>2.032981e-03</td>\n",
       "      <td>0.073692</td>\n",
       "      <td>0.002035</td>\n",
       "      <td>7.369780e-02</td>\n",
       "      <td>0.002057</td>\n",
       "      <td>0.073671</td>\n",
       "    </tr>\n",
       "  </tbody>\n",
       "</table>\n",
       "<p>1438 rows × 9 columns</p>\n",
       "</div>"
      ],
      "text/plain": [
       "      Node_no.    x_coor    y_coor           u_x       u_y   u_x_low  \\\n",
       "0            1  0.000000  0.000000  2.040851e-19  0.000000 -0.000019   \n",
       "1            2  1.000000  0.000000  5.000000e-02  0.000000  0.050001   \n",
       "2            3  1.000000  1.000000  5.000000e-02  0.100000  0.049999   \n",
       "3            4  0.000000  1.000000  0.000000e+00  0.100000  0.000006   \n",
       "4            5  0.029412  0.000000  1.470588e-03  0.000000  0.001452   \n",
       "...        ...       ...       ...           ...       ...       ...   \n",
       "1433      1434  0.938818  0.041254  4.694088e-02  0.004125  0.046941   \n",
       "1434      1435  0.059067  0.041099  2.953350e-03  0.004110  0.002937   \n",
       "1435      1436  0.979437  0.610897  4.897184e-02  0.061090  0.048974   \n",
       "1436      1437  0.959345  0.498258  4.796725e-02  0.049826  0.047970   \n",
       "1437      1438  0.040660  0.736920  2.032981e-03  0.073692  0.002035   \n",
       "\n",
       "           u_y_low  u_x_high  u_y_high  \n",
       "0     2.309680e-07 -0.000130  0.000275  \n",
       "1     1.166761e-05  0.050068  0.000056  \n",
       "2     1.000012e-01  0.049944  0.100027  \n",
       "3     1.000041e-01  0.000166  0.099995  \n",
       "4     3.539026e-08  0.001353  0.000264  \n",
       "...            ...       ...       ...  \n",
       "1433  4.135551e-03  0.046992  0.004166  \n",
       "1434  4.110577e-03  0.002845  0.004335  \n",
       "1435  6.109863e-02  0.048885  0.061025  \n",
       "1436  4.983556e-02  0.047894  0.049759  \n",
       "1437  7.369780e-02  0.002057  0.073671  \n",
       "\n",
       "[1438 rows x 9 columns]"
      ]
     },
     "execution_count": 6,
     "metadata": {},
     "output_type": "execute_result"
    }
   ],
   "source": [
    "coordinates_and_disp"
   ]
  },
  {
   "cell_type": "code",
   "execution_count": 10,
   "metadata": {
    "id": "SE17tDAsBn6O"
   },
   "outputs": [],
   "source": [
    "reactions = pd.read_csv(\"10//reactions.csv\")"
   ]
  },
  {
   "cell_type": "code",
   "execution_count": 12,
   "metadata": {},
   "outputs": [
    {
     "data": {
      "text/html": [
       "<div>\n",
       "<style scoped>\n",
       "    .dataframe tbody tr th:only-of-type {\n",
       "        vertical-align: middle;\n",
       "    }\n",
       "\n",
       "    .dataframe tbody tr th {\n",
       "        vertical-align: top;\n",
       "    }\n",
       "\n",
       "    .dataframe thead th {\n",
       "        text-align: right;\n",
       "    }\n",
       "</style>\n",
       "<table border=\"1\" class=\"dataframe\">\n",
       "  <thead>\n",
       "    <tr style=\"text-align: right;\">\n",
       "      <th></th>\n",
       "      <th>reactions</th>\n",
       "    </tr>\n",
       "  </thead>\n",
       "  <tbody>\n",
       "    <tr>\n",
       "      <th>0</th>\n",
       "      <td>-0.510058</td>\n",
       "    </tr>\n",
       "    <tr>\n",
       "      <th>1</th>\n",
       "      <td>0.510058</td>\n",
       "    </tr>\n",
       "    <tr>\n",
       "      <th>2</th>\n",
       "      <td>-0.575649</td>\n",
       "    </tr>\n",
       "    <tr>\n",
       "      <th>3</th>\n",
       "      <td>0.575649</td>\n",
       "    </tr>\n",
       "  </tbody>\n",
       "</table>\n",
       "</div>"
      ],
      "text/plain": [
       "   reactions\n",
       "0  -0.510058\n",
       "1   0.510058\n",
       "2  -0.575649\n",
       "3   0.575649"
      ]
     },
     "execution_count": 12,
     "metadata": {},
     "output_type": "execute_result"
    }
   ],
   "source": [
    "reactions.head()"
   ]
  },
  {
   "cell_type": "code",
   "execution_count": null,
   "metadata": {
    "colab": {
     "base_uri": "https://localhost:8080/"
    },
    "id": "IjL3cJ1FBw3I",
    "outputId": "80787a03-0a5e-4d3a-be32-3452a7ca9da9"
   },
   "outputs": [
    {
     "name": "stdout",
     "output_type": "stream",
     "text": [
      "<class 'pandas.core.frame.DataFrame'>\n",
      "RangeIndex: 1438 entries, 0 to 1437\n",
      "Data columns (total 9 columns):\n",
      " #   Column    Non-Null Count  Dtype  \n",
      "---  ------    --------------  -----  \n",
      " 0   Node_no.  1438 non-null   int64  \n",
      " 1   x_coor    1438 non-null   float64\n",
      " 2   y_coor    1438 non-null   float64\n",
      " 3   u_x       1438 non-null   float64\n",
      " 4   u_y       1438 non-null   float64\n",
      " 5   u_x_low   1438 non-null   float64\n",
      " 6   u_y_low   1438 non-null   float64\n",
      " 7   u_x_high  1438 non-null   float64\n",
      " 8   u_y_high  1438 non-null   float64\n",
      "dtypes: float64(8), int64(1)\n",
      "memory usage: 101.2 KB\n"
     ]
    }
   ],
   "source": [
    "coordinates_and_disp.info()"
   ]
  },
  {
   "cell_type": "code",
   "execution_count": 11,
   "metadata": {
    "colab": {
     "base_uri": "https://localhost:8080/"
    },
    "id": "yYOf7b4fB1rx",
    "outputId": "3e57de43-ba73-44d6-c85f-129b154defbf"
   },
   "outputs": [
    {
     "name": "stdout",
     "output_type": "stream",
     "text": [
      "<class 'pandas.core.frame.DataFrame'>\n",
      "RangeIndex: 4 entries, 0 to 3\n",
      "Data columns (total 1 columns):\n",
      " #   Column     Non-Null Count  Dtype  \n",
      "---  ------     --------------  -----  \n",
      " 0   reactions  4 non-null      float64\n",
      "dtypes: float64(1)\n",
      "memory usage: 160.0 bytes\n"
     ]
    }
   ],
   "source": [
    "reactions.info()"
   ]
  },
  {
   "cell_type": "code",
   "execution_count": 13,
   "metadata": {
    "id": "Bv1qVXGhB8pH"
   },
   "outputs": [
    {
     "name": "stdout",
     "output_type": "stream",
     "text": [
      "WARNING:tensorflow:From c:\\Users\\sanya\\AppData\\Local\\Programs\\Python\\Python310\\lib\\site-packages\\keras\\src\\losses.py:2976: The name tf.losses.sparse_softmax_cross_entropy is deprecated. Please use tf.compat.v1.losses.sparse_softmax_cross_entropy instead.\n",
      "\n"
     ]
    }
   ],
   "source": [
    "import tensorflow as tf\n",
    "import numpy as np"
   ]
  },
  {
   "cell_type": "code",
   "execution_count": 35,
   "metadata": {
    "id": "7eTkNoTmC2aF"
   },
   "outputs": [],
   "source": [
    "class SimpleNN(nn.Module):\n",
    "    def __init__(self):\n",
    "        super(SimpleNN, self).__init__()\n",
    "        self.fc1 = nn.Linear(6, 16)  # First hidden layer\n",
    "        self.fc2 = nn.Linear(16, 8)  # Second hidden layer\n",
    "        self.fc3 = nn.Linear(8, 2)   # Output layer\n",
    "\n",
    "    def forward(self, x):\n",
    "        # Apply ReLU activation between hidden layers\n",
    "        x = F.relu(self.fc1(x))\n",
    "        x = F.relu(self.fc2(x))\n",
    "        x = self.fc3(x)\n",
    "        return x\n",
    "model=SimpleNN()\n",
    "\n",
    "\n",
    "# y=model(X)\n"
   ]
  },
  {
   "cell_type": "code",
   "execution_count": 16,
   "metadata": {
    "id": "ayYw0LjbJev-"
   },
   "outputs": [],
   "source": [
    "# HELPER Functions for course project\n",
    "\n",
    "def computeJacobian(F):\n",
    "    \"\"\"\n",
    "    Compute Jacobian from deformation gradient.\n",
    "\n",
    "    _Input Arguments_\n",
    "\n",
    "    - `F` - deformation gradient in Voigt notation\n",
    "\n",
    "    _Output Arguments_\n",
    "\n",
    "    - `J` - Jacobian\n",
    "\n",
    "    ---\n",
    "\n",
    "    \"\"\"\n",
    "    F11 = F[:,0:1]\n",
    "    F12 = F[:,1:2]\n",
    "    F21 = F[:,2:3]\n",
    "    F22 = F[:,3:4]\n",
    "\n",
    "    J = F11*F22 - F12*F21\n",
    "    return J"
   ]
  },
  {
   "cell_type": "code",
   "execution_count": 17,
   "metadata": {
    "id": "h3zrEZEdJgz1"
   },
   "outputs": [],
   "source": [
    "def computeCauchyGreenStrain(F):\n",
    "    \"\"\"\n",
    "    Compute right Cauchy-Green strain tensor from deformation gradient.\n",
    "\n",
    "    _Input Arguments_\n",
    "\n",
    "    - `F` - deformation gradient in Voigt notation\n",
    "\n",
    "    _Output Arguments_\n",
    "\n",
    "    - `C` - Cauchy-Green strain tensor in Voigt notation\n",
    "\n",
    "    ---\n",
    "\n",
    "    \"\"\"\n",
    "    F11 = F[:,0:1]\n",
    "    F12 = F[:,1:2]\n",
    "    F21 = F[:,2:3]\n",
    "    F22 = F[:,3:4]\n",
    "\n",
    "    C11 = F11**2 + F21**2\n",
    "    C12 = F11*F12 + F21*F22\n",
    "    C21 = F11*F12 + F21*F22\n",
    "    C22 = F12**2 + F22**2\n",
    "\n",
    "    C = torch.cat((C11,C12,C21,C22),dim=1)\n",
    "    return C"
   ]
  },
  {
   "cell_type": "code",
   "execution_count": 18,
   "metadata": {
    "id": "vbTwlkeAJj9w"
   },
   "outputs": [],
   "source": [
    "def computeStrainInvariants(C):\n",
    "    \"\"\"\n",
    "    Compute invariants of the Cauchy-Green strain tensor.\n",
    "    Plane strain is assumed.\n",
    "\n",
    "    _Input Arguments_\n",
    "\n",
    "    - `C` - Cauchy-Green strain tensor in Voigt notation\n",
    "\n",
    "    _Output Arguments_\n",
    "\n",
    "    - `I1` - 1st invariant\n",
    "\n",
    "    - `I2` - 2nd invariant\n",
    "\n",
    "    - `I3` - 3rd invariant\n",
    "\n",
    "    ---\n",
    "\n",
    "    \"\"\"\n",
    "    C11 = C[:,0:1]\n",
    "    C12 = C[:,1:2]\n",
    "    C21 = C[:,2:3]\n",
    "    C22 = C[:,3:4]\n",
    "\n",
    "    I1 = C11 + C22 + 1.0\n",
    "    I2 = C11 + C22 - C12*C21 + C11*C22\n",
    "    I3 = C11*C22 - C12*C21\n",
    "    return I1, I2, I3\n"
   ]
  },
  {
   "cell_type": "code",
   "execution_count": 19,
   "metadata": {
    "id": "kldjbijGJb-x"
   },
   "outputs": [],
   "source": [
    "\n",
    "\n",
    "def computeStrainInvariantDerivatives(F,i,secondDerivative=False):\n",
    "    \"\"\"\n",
    "    Compute derivatives of the invariants of the Cauchy-Green strain tensor with respect to the deformation gradient.\n",
    "    Plane strain is assumed.\n",
    "\n",
    "    _Input Arguments_\n",
    "\n",
    "    - `F` - deformation gradient in Voigt notation\n",
    "\n",
    "    - `i` - specify the invariant that should be differentiated\n",
    "\n",
    "    - `secondDerivative` - specify if second derivative should be computed\n",
    "\n",
    "    _Output Arguments_\n",
    "\n",
    "    - `dIdF` - derivative (note that the size of `dIdF` depends on the choice of `secondDerivative`)\n",
    "\n",
    "    ---\n",
    "\n",
    "    \"\"\"\n",
    "    F11 = F[:,0:1]\n",
    "    F12 = F[:,1:2]\n",
    "    F21 = F[:,2:3]\n",
    "    F22 = F[:,3:4]\n",
    "    if not(secondDerivative):\n",
    "        dIdF = torch.zeros(F.shape[0],F.shape[1])\n",
    "        if(i==1):\n",
    "            # dI1/dF:\n",
    "            dIdF = 2.0*F\n",
    "        elif(i==2):\n",
    "            # dI2/dF:\n",
    "            dIdF11 = 2.0*F11 - 2.0*F12*F21*F22 + 2.0*F11*(F22**2)\n",
    "            dIdF12 = 2.0*F12 + 2.0*F12*(F21**2) - 2.0*F11*F21*F22\n",
    "            dIdF21 = 2.0*F21 + 2.0*(F12**2)*F21 - 2.0*F11*F12*F22\n",
    "            dIdF22 = 2.0*F22 - 2.0*F11*F12*F21 + 2.0*(F11**2)*F22\n",
    "            dIdF = torch.cat((dIdF11,dIdF12,dIdF21,dIdF22),dim=1)\n",
    "        elif(i==3):\n",
    "            # dI3/dF:\n",
    "            J = F11*F22 - F12*F21\n",
    "            dIdF11 = 2.0*F22 * J\n",
    "            dIdF12 = -2.0*F21 * J\n",
    "            dIdF21 = -2.0*F12 * J\n",
    "            dIdF22 = 2.0*F11 * J\n",
    "            dIdF = torch.cat((dIdF11,dIdF12,dIdF21,dIdF22),dim=1)\n",
    "        else:\n",
    "            raise ValueError('Incorrect invariant index')\n",
    "    if secondDerivative:\n",
    "        dIdF = torch.zeros(F.shape[1],F.shape[1])\n",
    "        if(i==1):\n",
    "            # d(dI1/dF)/dF:\n",
    "            dIdF = 2.0*torch.eye(F.shape[1])\n",
    "        elif(i==3):\n",
    "            # d(dI3/dF)/dF:\n",
    "            J = F11*F22 - F12*F21\n",
    "            dJdF11 = F22\n",
    "            dJdF12 = - F21\n",
    "            dJdF21 = - F12\n",
    "            dJdF22 = F11\n",
    "            # d(dI3/dF)/dF11:\n",
    "            dIdF[0,0] = 2.0 * F22 * dJdF11\n",
    "            dIdF[0,1] = -2.0 * F21 * dJdF11\n",
    "            dIdF[0,2] = -2.0 * F12 * dJdF11\n",
    "            dIdF[0,3] = 2.0 * J + 2.0 * F11 * dJdF11\n",
    "            # d(dI3/dF)/dF12:\n",
    "            dIdF[1,0] = 2.0 * F22 * dJdF12\n",
    "            dIdF[1,1] = -2.0 * F21 * dJdF12\n",
    "            dIdF[1,2] = -2.0 * J -2.0 * F12 * dJdF12\n",
    "            dIdF[1,3] = 2.0 * F11 * dJdF12\n",
    "            # d(dI3/dF)/dF21:\n",
    "            dIdF[2,0] = 2.0 * F22 * dJdF21\n",
    "            dIdF[2,1] = -2.0 * J + -2.0 * F21 * dJdF21\n",
    "            dIdF[2,2] = -2.0 * F12 * dJdF21\n",
    "            dIdF[2,3] = 2.0 * F11 * dJdF21\n",
    "            # d(dI3/dF)/dF22:\n",
    "            dIdF[3,0] = 2.0 * J + 2.0 * F22 * dJdF22\n",
    "            dIdF[3,1] = -2.0 * F21 * dJdF22\n",
    "            dIdF[3,2] = -2.0 * F12 * dJdF22\n",
    "            dIdF[3,3] = 2.0 * F11 * dJdF22\n",
    "        else:\n",
    "            raise ValueError('Incorrect invariant index')\n",
    "    return dIdF\n"
   ]
  },
  {
   "cell_type": "code",
   "execution_count": 21,
   "metadata": {
    "id": "19BEVtHpJoNG"
   },
   "outputs": [],
   "source": [
    "\n",
    "def computeFeatures(I1, I2, I3):\n",
    "    \"\"\"\n",
    "    Compute the features dependent on the right Cauchy-Green strain invariants.\n",
    "    Note that the features only depend on I1 and I3.\n",
    "\n",
    "    _Input Arguments_\n",
    "\n",
    "    - `I1` - 1st invariant\n",
    "\n",
    "    - `I2` - 2nd invariant\n",
    "\n",
    "    - `I3` - 3rd invariant\n",
    "\n",
    "    _Output Arguments_\n",
    "\n",
    "    - `x` - features\n",
    "\n",
    "    ---\n",
    "\n",
    "    \"\"\"\n",
    "    #Generalized Mooney-Rivlin.\n",
    "    #The Gent-Thomas model cannot be represented by the generalized\n",
    "    #Mooney-Rivlin model. An additional feature has to be added.\n",
    "    considerGentThomas = True\n",
    "    #Polynomial terms degree.\n",
    "    Na = 7\n",
    "    #Volumetric terms degree.\n",
    "    Nb = 7\n",
    "\n",
    "    K1 = I1 * torch.pow(I3,-1/3) - 3.0\n",
    "    K2 = (I1 + I3 - 1) * torch.pow(I3,-2/3) - 3.0\n",
    "    J = torch.sqrt(I3)\n",
    "    #Calculate the number of features.\n",
    "    numFeatures = 0\n",
    "    #Polynomial terms (dependent on K1 and K2).\n",
    "    for n in range(Na):\n",
    "        numFeatures += n + 2\n",
    "    #Volumetric terms (dependent on J).\n",
    "    for m in range(Nb):\n",
    "        numFeatures += 1\n",
    "    #Additional Gent-Thomas feature.\n",
    "    if considerGentThomas:\n",
    "        numFeatures += 1\n",
    "    #Calculate the features.\n",
    "    x = torch.zeros(I1.shape[0],numFeatures)\n",
    "    i=-1;\n",
    "    #Polynomial terms (dependent on K1 and K2).\n",
    "    for p in range(1,Na+1):\n",
    "        for q in range(p+1):\n",
    "            i+=1; x[:,i:(i+1)] = K1**(p-q) * K2**q\n",
    "\n",
    "    #Volumetric terms (dependent on J):\n",
    "    for m in range(1,Nb+1):\n",
    "        i+=1; x[:,i:(i+1)] = (J-1)**(2*m)\n",
    "    #Additional Gent-Thomas feature.\n",
    "    if considerGentThomas:\n",
    "        i+=1; x[:,i:(i+1)] = torch.log((K2+3.0)/3.0)\n",
    "\n",
    "    return x\n",
    "\n"
   ]
  },
  {
   "cell_type": "code",
   "execution_count": 22,
   "metadata": {
    "id": "e6XncosLJr0B"
   },
   "outputs": [],
   "source": [
    "def getNumberOfFeatures():\n",
    "    \"\"\"\n",
    "    Compute number of features.\n",
    "\n",
    "    _Input Arguments_\n",
    "\n",
    "    - _none_\n",
    "\n",
    "    _Output Arguments_\n",
    "\n",
    "    - `features.shape[1]` - number of features\n",
    "\n",
    "    ---\n",
    "\n",
    "    \"\"\"\n",
    "    features = computeFeatures(torch.zeros(1,1),torch.zeros(1,1),torch.zeros(1,1))\n",
    "    return features.shape[1]\n"
   ]
  },
  {
   "cell_type": "code",
   "execution_count": 23,
   "metadata": {},
   "outputs": [],
   "source": [
    "X = torch.tensor(\n",
    "    [\n",
    "        [1.0, 2.0, 3.0, 4.0, 5.0, 6.0],\n",
    "        [6.0, 5.0, 4.0, 3.0, 2.0, 1.0],\n",
    "        [1.0, 3.0, 5.0, 7.0, 9.0, 11.0],\n",
    "        [2.0, 4.0, 6.0, 8.0, 10.0, 12.0],\n",
    "        [2.0, 4.0, 6.0, 8.0, 10.0, 12.0]\n",
    "    ],\n",
    "    requires_grad=True,\n",
    ")"
   ]
  },
  {
   "cell_type": "code",
   "execution_count": 75,
   "metadata": {},
   "outputs": [],
   "source": [
    "grad_u = autograd.functional.jacobian(model,X, create_graph=True)"
   ]
  },
  {
   "cell_type": "code",
   "execution_count": null,
   "metadata": {},
   "outputs": [],
   "source": []
  },
  {
   "cell_type": "code",
   "execution_count": 61,
   "metadata": {},
   "outputs": [
    {
     "data": {
      "text/plain": [
       "tensor([[[ 0.0000,  0.0000,  0.0000,  0.0000,  0.0000,  0.0000],\n",
       "         [-0.0061,  0.0021, -0.0286, -0.0243,  0.0228, -0.0052],\n",
       "         [ 0.0000,  0.0000,  0.0000,  0.0000,  0.0000,  0.0000],\n",
       "         [ 0.0000,  0.0000,  0.0000,  0.0000,  0.0000,  0.0000]],\n",
       "\n",
       "        [[ 0.0000,  0.0000,  0.0000,  0.0000,  0.0000,  0.0000],\n",
       "         [ 0.0026,  0.0273,  0.0109, -0.0208, -0.0418, -0.0192],\n",
       "         [ 0.0000,  0.0000,  0.0000,  0.0000,  0.0000,  0.0000],\n",
       "         [ 0.0000,  0.0000,  0.0000,  0.0000,  0.0000,  0.0000]]])"
      ]
     },
     "execution_count": 61,
     "metadata": {},
     "output_type": "execute_result"
    }
   ],
   "source": [
    "grad_u[1]"
   ]
  },
  {
   "cell_type": "code",
   "execution_count": null,
   "metadata": {},
   "outputs": [],
   "source": []
  },
  {
   "cell_type": "code",
   "execution_count": 77,
   "metadata": {},
   "outputs": [],
   "source": [
    "I = torch.eye(4)\n",
    "F_X = I + grad_u_final"
   ]
  },
  {
   "cell_type": "code",
   "execution_count": 78,
   "metadata": {},
   "outputs": [
    {
     "data": {
      "text/plain": [
       "tensor([[ 0.9986,  0.0161, -0.0198, -0.0267],\n",
       "        [-0.0061,  1.0021,  0.0026,  0.0273],\n",
       "        [-0.0011,  0.0173,  0.9843, -0.0113],\n",
       "        [-0.0014,  0.0161, -0.0198,  0.9733]])"
      ]
     },
     "execution_count": 78,
     "metadata": {},
     "output_type": "execute_result"
    }
   ],
   "source": [
    "F_X"
   ]
  },
  {
   "cell_type": "code",
   "execution_count": 79,
   "metadata": {},
   "outputs": [],
   "source": [
    "C_x = computeCauchyGreenStrain(F_X)"
   ]
  },
  {
   "cell_type": "code",
   "execution_count": 80,
   "metadata": {},
   "outputs": [
    {
     "data": {
      "text/plain": [
       "tensor([[ 9.9750e-01,  1.6631e-02,  1.6631e-02,  9.7130e-04],\n",
       "        [ 4.4330e-05, -6.0716e-03, -6.0716e-03,  1.0050e+00],\n",
       "        [ 9.6884e-01, -1.1100e-02, -1.1100e-02,  4.2546e-04],\n",
       "        [ 3.9374e-04, -1.9286e-02, -1.9286e-02,  9.4763e-01]])"
      ]
     },
     "execution_count": 80,
     "metadata": {},
     "output_type": "execute_result"
    }
   ],
   "source": [
    "C_x"
   ]
  },
  {
   "cell_type": "code",
   "execution_count": 81,
   "metadata": {},
   "outputs": [],
   "source": [
    "I1, I2, I3 = computeStrainInvariants(C_x)"
   ]
  },
  {
   "cell_type": "code",
   "execution_count": 82,
   "metadata": {},
   "outputs": [
    {
     "data": {
      "text/plain": [
       "(tensor([[1.9985],\n",
       "         [2.0050],\n",
       "         [1.9693],\n",
       "         [1.9480]]),\n",
       " tensor([[0.9992],\n",
       "         [1.0050],\n",
       "         [0.9696],\n",
       "         [0.9480]]),\n",
       " tensor([[6.9228e-04],\n",
       "         [7.6857e-06],\n",
       "         [2.8899e-04],\n",
       "         [1.1824e-06]]))"
      ]
     },
     "execution_count": 82,
     "metadata": {},
     "output_type": "execute_result"
    }
   ],
   "source": [
    "I1, I2, I3"
   ]
  },
  {
   "cell_type": "code",
   "execution_count": 84,
   "metadata": {},
   "outputs": [
    {
     "data": {
      "text/plain": [
       "torch.Size([4, 43])"
      ]
     },
     "execution_count": 84,
     "metadata": {},
     "output_type": "execute_result"
    }
   ],
   "source": [
    "all_features = computeFeatures(I1, I2, I3)\n",
    "all_features.shape"
   ]
  },
  {
   "cell_type": "code",
   "execution_count": 85,
   "metadata": {},
   "outputs": [],
   "source": [
    "all_Invariants = [I1, I2, I3]"
   ]
  },
  {
   "cell_type": "code",
   "execution_count": null,
   "metadata": {},
   "outputs": [],
   "source": [
    "def find_P(all_features , all_Invariants,beta , F):\n",
    "    for i in range(all_Invariants):\n",
    "        "
   ]
  }
 ],
 "metadata": {
  "colab": {
   "provenance": []
  },
  "kernelspec": {
   "display_name": "Python 3 (ipykernel)",
   "language": "python",
   "name": "python3"
  },
  "language_info": {
   "codemirror_mode": {
    "name": "ipython",
    "version": 3
   },
   "file_extension": ".py",
   "mimetype": "text/x-python",
   "name": "python",
   "nbconvert_exporter": "python",
   "pygments_lexer": "ipython3",
   "version": "3.11.7"
  }
 },
 "nbformat": 4,
 "nbformat_minor": 4
}
